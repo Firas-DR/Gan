{
 "cells": [
  {
   "cell_type": "code",
   "execution_count": 1,
   "id": "0a3516e5-c5bf-41fd-93d3-69124a542717",
   "metadata": {
    "tags": []
   },
   "outputs": [
    {
     "name": "stdout",
     "output_type": "stream",
     "text": [
      "Requirement already satisfied: opencv-python>=4.8.0.76 in c:\\users\\mohamed\\appdata\\roaming\\python\\python311\\site-packages (from -r requirements.txt (line 1)) (4.10.0.84)\n",
      "Requirement already satisfied: numpy>=1.24.1 in c:\\users\\mohamed\\appdata\\roaming\\python\\python311\\site-packages (from -r requirements.txt (line 2)) (2.1.1)\n",
      "Requirement already satisfied: tqdm>=4.66.1 in c:\\users\\mohamed\\appdata\\roaming\\python\\python311\\site-packages (from -r requirements.txt (line 3)) (4.66.5)\n",
      "Requirement already satisfied: torch>=2.0.1+cu118 in c:\\users\\mohamed\\appdata\\roaming\\python\\python311\\site-packages (from -r requirements.txt (line 4)) (2.4.1)\n",
      "Requirement already satisfied: PyYAML>=5.4.1 in c:\\users\\mohamed\\appdata\\roaming\\python\\python311\\site-packages (from -r requirements.txt (line 5)) (6.0.2)\n",
      "Requirement already satisfied: typing>=3.7.4.3 in c:\\users\\mohamed\\appdata\\roaming\\python\\python311\\site-packages (from -r requirements.txt (line 6)) (3.7.4.3)\n",
      "Requirement already satisfied: torchvision>=0.15.2+cu118 in c:\\users\\mohamed\\appdata\\roaming\\python\\python311\\site-packages (from -r requirements.txt (line 7)) (0.19.1)\n",
      "Requirement already satisfied: natsort>=8.4.0 in c:\\users\\mohamed\\appdata\\roaming\\python\\python311\\site-packages (from -r requirements.txt (line 8)) (8.4.0)\n",
      "Requirement already satisfied: colorama in c:\\users\\mohamed\\appdata\\roaming\\python\\python311\\site-packages (from tqdm>=4.66.1->-r requirements.txt (line 3)) (0.4.6)\n",
      "Requirement already satisfied: filelock in c:\\users\\mohamed\\appdata\\roaming\\python\\python311\\site-packages (from torch>=2.0.1+cu118->-r requirements.txt (line 4)) (3.16.1)\n",
      "Requirement already satisfied: typing-extensions>=4.8.0 in c:\\users\\mohamed\\appdata\\roaming\\python\\python311\\site-packages (from torch>=2.0.1+cu118->-r requirements.txt (line 4)) (4.12.2)\n",
      "Requirement already satisfied: sympy in c:\\users\\mohamed\\appdata\\roaming\\python\\python311\\site-packages (from torch>=2.0.1+cu118->-r requirements.txt (line 4)) (1.13.3)\n",
      "Requirement already satisfied: networkx in c:\\users\\mohamed\\appdata\\roaming\\python\\python311\\site-packages (from torch>=2.0.1+cu118->-r requirements.txt (line 4)) (3.3)\n",
      "Requirement already satisfied: jinja2 in c:\\users\\mohamed\\appdata\\roaming\\python\\python311\\site-packages (from torch>=2.0.1+cu118->-r requirements.txt (line 4)) (3.1.4)\n",
      "Requirement already satisfied: fsspec in c:\\users\\mohamed\\appdata\\roaming\\python\\python311\\site-packages (from torch>=2.0.1+cu118->-r requirements.txt (line 4)) (2024.9.0)\n",
      "Requirement already satisfied: pillow!=8.3.*,>=5.3.0 in c:\\users\\mohamed\\appdata\\roaming\\python\\python311\\site-packages (from torchvision>=0.15.2+cu118->-r requirements.txt (line 7)) (10.4.0)\n",
      "Requirement already satisfied: MarkupSafe>=2.0 in c:\\users\\mohamed\\appdata\\roaming\\python\\python311\\site-packages (from jinja2->torch>=2.0.1+cu118->-r requirements.txt (line 4)) (2.1.5)\n",
      "Requirement already satisfied: mpmath<1.4,>=1.1.0 in c:\\users\\mohamed\\appdata\\roaming\\python\\python311\\site-packages (from sympy->torch>=2.0.1+cu118->-r requirements.txt (line 4)) (1.3.0)\n"
     ]
    }
   ],
   "source": [
    "!pip install -r requirements.txt"
   ]
  },
  {
   "cell_type": "code",
   "execution_count": 8,
   "id": "c50b798e-fb9e-4d6f-ac6a-300e4541d616",
   "metadata": {
    "tags": []
   },
   "outputs": [
    {
     "name": "stderr",
     "output_type": "stream",
     "text": [
      "Traceback (most recent call last):\n",
      "  File \"C:\\Users\\Mohamed\\Desktop\\SRGAN-PyTorch-main\\test.py\", line 184, in <module>\n",
      "    main()\n",
      "  File \"C:\\Users\\Mohamed\\Desktop\\SRGAN-PyTorch-main\\test.py\", line 164, in main\n",
      "    test_data_prefetcher = load_dataset(config, device)\n",
      "                           ^^^^^^^^^^^^^^^^^^^^^^^^^^^^\n",
      "  File \"C:\\Users\\Mohamed\\Desktop\\SRGAN-PyTorch-main\\test.py\", line 41, in load_dataset\n",
      "    test_test_data_prefetcher = CUDAPrefetcher(test_dataloader, device)\n",
      "                                ^^^^^^^^^^^^^^^^^^^^^^^^^^^^^^^^^^^^^^^\n",
      "  File \"C:\\Users\\Mohamed\\Desktop\\SRGAN-PyTorch-main\\dataset.py\", line 228, in __init__\n",
      "    self.stream = torch.cuda.Stream()\n",
      "                  ^^^^^^^^^^^^^^^^^^^\n",
      "  File \"C:\\Users\\Mohamed\\AppData\\Roaming\\Python\\Python311\\site-packages\\torch\\cuda\\streams.py\", line 35, in __new__\n",
      "    return super().__new__(cls, priority=priority, **kwargs)\n",
      "           ^^^^^^^^^^^^^^^^^^^^^^^^^^^^^^^^^^^^^^^^^^^^^^^^^\n",
      "  File \"C:\\Users\\Mohamed\\AppData\\Roaming\\Python\\Python311\\site-packages\\torch\\_utils.py\", line 912, in err_fn\n",
      "    raise RuntimeError(f\"Tried to instantiate dummy base class {class_name}\")\n",
      "RuntimeError: Tried to instantiate dummy base class Stream\n"
     ]
    }
   ],
   "source": [
    "!python test.py --config_path ./configs/test/SRGAN_x4-SRGAN_ImageNet-Set5.yaml"
   ]
  }
 ],
 "metadata": {
  "kernelspec": {
   "display_name": "Python 3 (ipykernel)",
   "language": "python",
   "name": "python3"
  },
  "language_info": {
   "codemirror_mode": {
    "name": "ipython",
    "version": 3
   },
   "file_extension": ".py",
   "mimetype": "text/x-python",
   "name": "python",
   "nbconvert_exporter": "python",
   "pygments_lexer": "ipython3",
   "version": "3.11.5"
  }
 },
 "nbformat": 4,
 "nbformat_minor": 5
}
